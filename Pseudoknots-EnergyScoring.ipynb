{
 "cells": [
  {
   "cell_type": "code",
   "execution_count": 1,
   "metadata": {},
   "outputs": [],
   "source": [
    "# Psudoknots prediction"
   ]
  },
  {
   "cell_type": "code",
   "execution_count": 14,
   "metadata": {},
   "outputs": [],
   "source": [
    "from Bio.Seq import Seq\n",
    "from Bio.Alphabet import generic_dna\n",
    "import pandas as pd, numpy as np\n",
    "import matplotlib.pyplot as plt"
   ]
  },
  {
   "cell_type": "markdown",
   "metadata": {},
   "source": [
    "<b>Functions"
   ]
  },
  {
   "cell_type": "code",
   "execution_count": 15,
   "metadata": {},
   "outputs": [
    {
     "name": "stdout",
     "output_type": "stream",
     "text": [
      "AGUACACUGGU\n",
      "ACCAGTGTACT\n"
     ]
    }
   ],
   "source": [
    "DNA_obj = Seq('AGTACACTGGT',generic_dna)\n",
    "print(Seq('AGTACACTGGT',generic_dna).transcribe())\n",
    "print(DNA_obj.reverse_complement())"
   ]
  },
  {
   "cell_type": "markdown",
   "metadata": {},
   "source": [
    "<b>Scoring/EnergyScoring"
   ]
  },
  {
   "cell_type": "markdown",
   "metadata": {},
   "source": [
    "<i>Alignment Score"
   ]
  },
  {
   "cell_type": "code",
   "execution_count": 16,
   "metadata": {},
   "outputs": [
    {
     "name": "stdin",
     "output_type": "stream",
     "text": [
      "What's the mismatch penalty (a number)?:  1\n",
      "What's the matching score (a number)?:  1\n"
     ]
    }
   ],
   "source": [
    "Bases = ['A','C','G','T']; score = dict(); score['Bases'] = Bases\n",
    "mismatch = int(input('What\\'s the mismatch penalty (a number)?: '));\n",
    "match = int(input('What\\'s the matching score (a number)?: '))\n",
    "for num,i in enumerate(Bases):\n",
    "    score[i] = [-mismatch]*4; score[i][num] = match"
   ]
  },
  {
   "cell_type": "code",
   "execution_count": 17,
   "metadata": {},
   "outputs": [
    {
     "data": {
      "text/html": [
       "<div>\n",
       "<style scoped>\n",
       "    .dataframe tbody tr th:only-of-type {\n",
       "        vertical-align: middle;\n",
       "    }\n",
       "\n",
       "    .dataframe tbody tr th {\n",
       "        vertical-align: top;\n",
       "    }\n",
       "\n",
       "    .dataframe thead th {\n",
       "        text-align: right;\n",
       "    }\n",
       "</style>\n",
       "<table border=\"1\" class=\"dataframe\">\n",
       "  <thead>\n",
       "    <tr style=\"text-align: right;\">\n",
       "      <th></th>\n",
       "      <th>A</th>\n",
       "      <th>C</th>\n",
       "      <th>G</th>\n",
       "      <th>T</th>\n",
       "    </tr>\n",
       "    <tr>\n",
       "      <th>Bases</th>\n",
       "      <th></th>\n",
       "      <th></th>\n",
       "      <th></th>\n",
       "      <th></th>\n",
       "    </tr>\n",
       "  </thead>\n",
       "  <tbody>\n",
       "    <tr>\n",
       "      <th>A</th>\n",
       "      <td>1</td>\n",
       "      <td>-1</td>\n",
       "      <td>-1</td>\n",
       "      <td>-1</td>\n",
       "    </tr>\n",
       "    <tr>\n",
       "      <th>C</th>\n",
       "      <td>-1</td>\n",
       "      <td>1</td>\n",
       "      <td>-1</td>\n",
       "      <td>-1</td>\n",
       "    </tr>\n",
       "    <tr>\n",
       "      <th>G</th>\n",
       "      <td>-1</td>\n",
       "      <td>-1</td>\n",
       "      <td>1</td>\n",
       "      <td>-1</td>\n",
       "    </tr>\n",
       "    <tr>\n",
       "      <th>T</th>\n",
       "      <td>-1</td>\n",
       "      <td>-1</td>\n",
       "      <td>-1</td>\n",
       "      <td>1</td>\n",
       "    </tr>\n",
       "  </tbody>\n",
       "</table>\n",
       "</div>"
      ],
      "text/plain": [
       "       A  C  G  T\n",
       "Bases            \n",
       "A      1 -1 -1 -1\n",
       "C     -1  1 -1 -1\n",
       "G     -1 -1  1 -1\n",
       "T     -1 -1 -1  1"
      ]
     },
     "execution_count": 17,
     "metadata": {},
     "output_type": "execute_result"
    }
   ],
   "source": [
    "Apt = pd.DataFrame(score); Apt.set_index('Bases',inplace = True); Apt"
   ]
  },
  {
   "cell_type": "code",
   "execution_count": 94,
   "metadata": {},
   "outputs": [],
   "source": [
    "# Sodium Dependence\n",
    "import numpy as np\n",
    "def Gibbs_SodiumDependence(StandardGibbs, SodiumConc):\n",
    "    return StandardGibbs - 0.114*N/2*np.log(SodiumConc)"
   ]
  },
  {
   "cell_type": "markdown",
   "metadata": {},
   "source": [
    "<i>NN Energy Scores"
   ]
  },
  {
   "cell_type": "code",
   "execution_count": 62,
   "metadata": {},
   "outputs": [
    {
     "data": {
      "text/html": [
       "<div>\n",
       "<style scoped>\n",
       "    .dataframe tbody tr th:only-of-type {\n",
       "        vertical-align: middle;\n",
       "    }\n",
       "\n",
       "    .dataframe tbody tr th {\n",
       "        vertical-align: top;\n",
       "    }\n",
       "\n",
       "    .dataframe thead th {\n",
       "        text-align: right;\n",
       "    }\n",
       "</style>\n",
       "<table border=\"1\" class=\"dataframe\">\n",
       "  <thead>\n",
       "    <tr style=\"text-align: right;\">\n",
       "      <th></th>\n",
       "      <th>Base Y</th>\n",
       "      <th>A</th>\n",
       "      <th>C</th>\n",
       "      <th>G</th>\n",
       "      <th>T</th>\n",
       "    </tr>\n",
       "    <tr>\n",
       "      <th>Sequence Propagation</th>\n",
       "      <th>Base X</th>\n",
       "      <th></th>\n",
       "      <th></th>\n",
       "      <th></th>\n",
       "      <th></th>\n",
       "    </tr>\n",
       "  </thead>\n",
       "  <tbody>\n",
       "    <tr>\n",
       "      <th rowspan=\"4\" valign=\"top\">CX/CY</th>\n",
       "      <th>A</th>\n",
       "      <td>0.170</td>\n",
       "      <td>0.81</td>\n",
       "      <td>-0.25</td>\n",
       "      <td>-1.30</td>\n",
       "    </tr>\n",
       "    <tr>\n",
       "      <th>C</th>\n",
       "      <td>0.470</td>\n",
       "      <td>0.79</td>\n",
       "      <td>-2.24</td>\n",
       "      <td>0.62</td>\n",
       "    </tr>\n",
       "    <tr>\n",
       "      <th>G</th>\n",
       "      <td>-0.520</td>\n",
       "      <td>-1.84</td>\n",
       "      <td>-1.11</td>\n",
       "      <td>0.08</td>\n",
       "    </tr>\n",
       "    <tr>\n",
       "      <th>T</th>\n",
       "      <td>-1.440</td>\n",
       "      <td>0.98</td>\n",
       "      <td>-0.59</td>\n",
       "      <td>0.45</td>\n",
       "    </tr>\n",
       "    <tr>\n",
       "      <th rowspan=\"4\" valign=\"top\">CX/GY</th>\n",
       "      <th>A</th>\n",
       "      <td>0.430</td>\n",
       "      <td>0.75</td>\n",
       "      <td>0.03</td>\n",
       "      <td>-1.45</td>\n",
       "    </tr>\n",
       "    <tr>\n",
       "      <th>C</th>\n",
       "      <td>-0.790</td>\n",
       "      <td>0.70</td>\n",
       "      <td>-1.84</td>\n",
       "      <td>0.62</td>\n",
       "    </tr>\n",
       "    <tr>\n",
       "      <th>G</th>\n",
       "      <td>0.110</td>\n",
       "      <td>-2.17</td>\n",
       "      <td>-0.11</td>\n",
       "      <td>-0.47</td>\n",
       "    </tr>\n",
       "    <tr>\n",
       "      <th>T</th>\n",
       "      <td>-0.128</td>\n",
       "      <td>0.40</td>\n",
       "      <td>-0.32</td>\n",
       "      <td>-0.12</td>\n",
       "    </tr>\n",
       "    <tr>\n",
       "      <th rowspan=\"4\" valign=\"top\">AX/TY</th>\n",
       "      <th>C</th>\n",
       "      <td>0.770</td>\n",
       "      <td>1.33</td>\n",
       "      <td>-1.44</td>\n",
       "      <td>0.64</td>\n",
       "    </tr>\n",
       "    <tr>\n",
       "      <th>G</th>\n",
       "      <td>0.020</td>\n",
       "      <td>-1.28</td>\n",
       "      <td>-0.13</td>\n",
       "      <td>0.71</td>\n",
       "    </tr>\n",
       "    <tr>\n",
       "      <th>T</th>\n",
       "      <td>-0.880</td>\n",
       "      <td>0.73</td>\n",
       "      <td>0.07</td>\n",
       "      <td>0.69</td>\n",
       "    </tr>\n",
       "    <tr>\n",
       "      <th>A</th>\n",
       "      <td>0.690</td>\n",
       "      <td>0.92</td>\n",
       "      <td>0.42</td>\n",
       "      <td>-0.58</td>\n",
       "    </tr>\n",
       "    <tr>\n",
       "      <th rowspan=\"2\" valign=\"top\">TX/AY</th>\n",
       "      <th>G</th>\n",
       "      <td>0.740</td>\n",
       "      <td>-1.45</td>\n",
       "      <td>0.44</td>\n",
       "      <td>0.43</td>\n",
       "    </tr>\n",
       "    <tr>\n",
       "      <th>T</th>\n",
       "      <td>-1.000</td>\n",
       "      <td>0.75</td>\n",
       "      <td>0.34</td>\n",
       "      <td>0.68</td>\n",
       "    </tr>\n",
       "  </tbody>\n",
       "</table>\n",
       "</div>"
      ],
      "text/plain": [
       "Base Y                           A     C     G     T\n",
       "Sequence Propagation Base X                         \n",
       "CX/CY                A       0.170  0.81 -0.25 -1.30\n",
       "                     C       0.470  0.79 -2.24  0.62\n",
       "                     G      -0.520 -1.84 -1.11  0.08\n",
       "                     T      -1.440  0.98 -0.59  0.45\n",
       "CX/GY                A       0.430  0.75  0.03 -1.45\n",
       "                     C      -0.790  0.70 -1.84  0.62\n",
       "                     G       0.110 -2.17 -0.11 -0.47\n",
       "                     T      -0.128  0.40 -0.32 -0.12\n",
       "AX/TY                C       0.770  1.33 -1.44  0.64\n",
       "                     G       0.020 -1.28 -0.13  0.71\n",
       "                     T      -0.880  0.73  0.07  0.69\n",
       "                     A       0.690  0.92  0.42 -0.58\n",
       "TX/AY                G       0.740 -1.45  0.44  0.43\n",
       "                     T      -1.000  0.75  0.34  0.68"
      ]
     },
     "execution_count": 62,
     "metadata": {},
     "output_type": "execute_result"
    }
   ],
   "source": [
    "# Internal Single Mismatch\n",
    "NNMismatch_raw = pd.read_excel(\"NNMismatch_Energy.xlsx\",header=1); \n",
    "df_NN = NNMismatch_raw.set_index('X').drop('Propagation Sequence',axis = 1); df_NN.index.name = 'Base X'; df_NN.columns.name = 'Base Y'\n",
    "NNMismatch_Energy = pd.concat([df_NN.iloc[:4,:],df_NN.iloc[4:8,:],df_NN.iloc[9:13,:], df_NN.iloc[14:18,:]], keys = ['CX/CY','CX/GY','AX/TY','TX/AY'], names=['Sequence Propagation'])\n",
    "NNMismatch_Energy"
   ]
  },
  {
   "cell_type": "code",
   "execution_count": 89,
   "metadata": {},
   "outputs": [
    {
     "data": {
      "text/html": [
       "<div>\n",
       "<style scoped>\n",
       "    .dataframe tbody tr th:only-of-type {\n",
       "        vertical-align: middle;\n",
       "    }\n",
       "\n",
       "    .dataframe tbody tr th {\n",
       "        vertical-align: top;\n",
       "    }\n",
       "\n",
       "    .dataframe thead th {\n",
       "        text-align: right;\n",
       "    }\n",
       "</style>\n",
       "<table border=\"1\" class=\"dataframe\">\n",
       "  <thead>\n",
       "    <tr style=\"text-align: right;\">\n",
       "      <th></th>\n",
       "      <th>Propagation Sequence</th>\n",
       "      <th>ΔH (kcal/mol)</th>\n",
       "      <th>ΔS (J/Kmol)</th>\n",
       "      <th>ΔG@37C(kcal/mol)</th>\n",
       "    </tr>\n",
       "  </thead>\n",
       "  <tbody>\n",
       "    <tr>\n",
       "      <th>1</th>\n",
       "      <td>AT/TA</td>\n",
       "      <td>-7.2</td>\n",
       "      <td>-20.4</td>\n",
       "      <td>-0.88</td>\n",
       "    </tr>\n",
       "    <tr>\n",
       "      <th>9</th>\n",
       "      <td>GG/CC</td>\n",
       "      <td>-8.0</td>\n",
       "      <td>-19.9</td>\n",
       "      <td>-1.84</td>\n",
       "    </tr>\n",
       "    <tr>\n",
       "      <th>10</th>\n",
       "      <td>Initiation</td>\n",
       "      <td>0.2</td>\n",
       "      <td>-5.7</td>\n",
       "      <td>1.96</td>\n",
       "    </tr>\n",
       "    <tr>\n",
       "      <th>11</th>\n",
       "      <td>Terminal AT penalty</td>\n",
       "      <td>2.2</td>\n",
       "      <td>6.9</td>\n",
       "      <td>0.05</td>\n",
       "    </tr>\n",
       "    <tr>\n",
       "      <th>12</th>\n",
       "      <td>Symmetry correction</td>\n",
       "      <td>0.0</td>\n",
       "      <td>-1.4</td>\n",
       "      <td>0.43</td>\n",
       "    </tr>\n",
       "  </tbody>\n",
       "</table>\n",
       "</div>"
      ],
      "text/plain": [
       "   Propagation Sequence  ΔH (kcal/mol)  ΔS (J/Kmol)  ΔG@37C(kcal/mol)\n",
       "1                 AT/TA           -7.2        -20.4             -0.88\n",
       "9                 GG/CC           -8.0        -19.9             -1.84\n",
       "10           Initiation            0.2         -5.7              1.96\n",
       "11  Terminal AT penalty            2.2          6.9              0.05\n",
       "12  Symmetry correction            0.0         -1.4              0.43"
      ]
     },
     "execution_count": 89,
     "metadata": {},
     "output_type": "execute_result"
    }
   ],
   "source": [
    "# Watson-Crick Pairing\n",
    "NNWC_Energy = pd.read_excel(\"NNWatson-Crick_Energy.xlsx\",header=0); NNWC_Energy.iloc[[1,-4,-3,-2,-1],:]"
   ]
  },
  {
   "cell_type": "code",
   "execution_count": 63,
   "metadata": {},
   "outputs": [],
   "source": [
    "# Terminal Dangling Ends (none yet)"
   ]
  },
  {
   "cell_type": "code",
   "execution_count": 68,
   "metadata": {},
   "outputs": [
    {
     "data": {
      "text/html": [
       "<div>\n",
       "<style scoped>\n",
       "    .dataframe tbody tr th:only-of-type {\n",
       "        vertical-align: middle;\n",
       "    }\n",
       "\n",
       "    .dataframe tbody tr th {\n",
       "        vertical-align: top;\n",
       "    }\n",
       "\n",
       "    .dataframe thead th {\n",
       "        text-align: right;\n",
       "    }\n",
       "</style>\n",
       "<table border=\"1\" class=\"dataframe\">\n",
       "  <thead>\n",
       "    <tr style=\"text-align: right;\">\n",
       "      <th></th>\n",
       "      <th>Internal loops</th>\n",
       "      <th>Bulge loops</th>\n",
       "      <th>Hairpin loops</th>\n",
       "    </tr>\n",
       "    <tr>\n",
       "      <th>Loop Size</th>\n",
       "      <th></th>\n",
       "      <th></th>\n",
       "      <th></th>\n",
       "    </tr>\n",
       "  </thead>\n",
       "  <tbody>\n",
       "    <tr>\n",
       "      <th>1</th>\n",
       "      <td>NaN</td>\n",
       "      <td>4.0</td>\n",
       "      <td>NaN</td>\n",
       "    </tr>\n",
       "    <tr>\n",
       "      <th>2</th>\n",
       "      <td>NaN</td>\n",
       "      <td>2.9</td>\n",
       "      <td>NaN</td>\n",
       "    </tr>\n",
       "    <tr>\n",
       "      <th>3</th>\n",
       "      <td>3.2</td>\n",
       "      <td>3.1</td>\n",
       "      <td>3.5</td>\n",
       "    </tr>\n",
       "    <tr>\n",
       "      <th>4</th>\n",
       "      <td>3.6</td>\n",
       "      <td>3.2</td>\n",
       "      <td>3.5</td>\n",
       "    </tr>\n",
       "    <tr>\n",
       "      <th>5</th>\n",
       "      <td>4.0</td>\n",
       "      <td>3.3</td>\n",
       "      <td>3.3</td>\n",
       "    </tr>\n",
       "  </tbody>\n",
       "</table>\n",
       "</div>"
      ],
      "text/plain": [
       "           Internal loops  Bulge loops  Hairpin loops\n",
       "Loop Size                                            \n",
       "1                     NaN          4.0            NaN\n",
       "2                     NaN          2.9            NaN\n",
       "3                     3.2          3.1            3.5\n",
       "4                     3.6          3.2            3.5\n",
       "5                     4.0          3.3            3.3"
      ]
     },
     "execution_count": 68,
     "metadata": {},
     "output_type": "execute_result"
    }
   ],
   "source": [
    "# Length Dependence of Loop Motif\n",
    "NNLoopLength_Energy = pd.read_excel(\"NNLoopLength_Energy.xlsx\",header=0); NNLoopLength_Energy.set_index('Loop Size', inplace = True);\n",
    "NNLoopLength_Energy.head(5)"
   ]
  },
  {
   "cell_type": "code",
   "execution_count": 53,
   "metadata": {},
   "outputs": [
    {
     "name": "stdout",
     "output_type": "stream",
     "text": [
      "CX\n",
      "CX\n",
      "AX\n",
      "TX\n"
     ]
    }
   ],
   "source": [
    "def PairwiseSequenceThermodynamics(seq1, seq2):"
   ]
  },
  {
   "cell_type": "code",
   "execution_count": 77,
   "metadata": {},
   "outputs": [],
   "source": [
    "# Export Table:  NNEnergy.to_excel(\"NNEnergy Table.xlsx\")"
   ]
  },
  {
   "cell_type": "markdown",
   "metadata": {},
   "source": [
    "<b>Alignment"
   ]
  },
  {
   "cell_type": "code",
   "execution_count": 17,
   "metadata": {},
   "outputs": [],
   "source": [
    "class MultiLocalAlignment:\n",
    "    def __init__(self, ScoringMatrix, indel_penalty):\n",
    "        self.ScoreMat = ScoringMatrix\n",
    "        self.indel_penalty = indel_penalty\n",
    "        #print('Size of Scoring Matrix: ', self.ScoreMat.shape)\n",
    "        #print('Types : ', list(self.ScoreMat.columns))\n",
    "    def LCSLocal(self, string1, string2):\n",
    "        self.string1 = string1; self.string2 = string2\n",
    "        k1 = len(string1); k2 = len(string2)\n",
    "        self.node_matrix = np.zeros((k1+1, k2+1)); self.backtrack_matrix = np.zeros((k1+1, k2+1));\n",
    "        #print('Backtrack Annotations: {Diagnoal:', 0, 'Down:', 1, 'Right:', 2, 'Source:', 3,'}')\n",
    "        \n",
    "        self.backtrack_matrix[0,1:] = np.linspace(2, 2, k2); self.backtrack_matrix[1:,0] = np.linspace(1, 1, k1)\n",
    "        self.node_matrix[0,1:] = np.arange(self.indel_penalty, self.indel_penalty*(k2+1), self.indel_penalty); self.node_matrix[1:,0] = np.arange(self.indel_penalty, self.indel_penalty*(k1+1), self.indel_penalty)\n",
    "        self.max_score = 0; \n",
    "        for i in range(0, k1):           ## Along the Row\n",
    "            for j in range(0, k2):           ## along the column\n",
    "                diag_vertice = self.node_matrix[i,j]+self.ScoreMat[string1[i]][string2[j]]\n",
    "                down_vertice = self.node_matrix[i,j+1] + self.indel_penalty\n",
    "                right_vertice = self.node_matrix[i+1,j] + self.indel_penalty\n",
    "                all_vertices = [diag_vertice, down_vertice, right_vertice,  0]\n",
    "                pointer = np.argmax(all_vertices);  \n",
    "                self.node_matrix[i+1][j+1] = [diag_vertice,down_vertice,right_vertice, 0][pointer]\n",
    "                \n",
    "                #### Find Max Cell + Score (Local only)\n",
    "                current_nodevalue = self.node_matrix[i+1][j+1]    \n",
    "                if current_nodevalue >= self.max_score:\n",
    "                    self.max_score = current_nodevalue\n",
    "                    self.max_node = (i+1,j+1)\n",
    " \n",
    "                #### Make Backtrack Matrix\n",
    "                if (i <= k1-1) and (j <= k2-1):\n",
    "                    self.backtrack_matrix[i+1,j+1] = pointer\n",
    "        return self.node_matrix, self.backtrack_matrix, self.max_score\n",
    "    \n",
    "    def BacktrackLocalAlign(self):\n",
    "        i,j = self.max_node; self.num_mismatch = 0; self.num_indel = 0\n",
    "        self.score = 0; self.align1 = ''; self.align2 = ''\n",
    "        while (i >= 1) or (j >= 1):\n",
    "            base1 = self.string1[i-1]; base2 = self.string2[j-1];\n",
    "            if self.backtrack_matrix[i][j] == 0:\n",
    "                self.align1 = base1 + self.align1; self.align2 = base2 + self.align2\n",
    "                self.score += self.ScoreMat[base1][base2]\n",
    "                if base1 != base2:\n",
    "                    self.num_mismatch += 1\n",
    "                i -= 1; j -= 1; \n",
    "            elif self.backtrack_matrix[i][j] == 1:\n",
    "                self.align1 = base1 + self.align1; self.align2 = '-' + self.align2\n",
    "                self.score += self.indel_penalty; self.num_indel += 1\n",
    "                i -= 1;\n",
    "            elif self.backtrack_matrix[i][j] == 2:\n",
    "                self.align1 = '-' + self.align1; self.align2 = base2 + self.align2\n",
    "                self.score += self.indel_penalty; self.num_indel += 1\n",
    "                j -= 1\n",
    "            elif self.backtrack_matrix[i][j] == 3:\n",
    "                i=0; j=0; \n",
    "                self.score += 0\n",
    "        #print('(Double) Check Score:', self.score ==self.max_score, '| Check Length:', len(self.align1)==len(self.align2))\n",
    "        return self.score, self.align1, self.align2\n",
    "    \n",
    "    def PsuedoAlign(self,string):\n",
    "        best_score = 0; all_scores = []\n",
    "        for k in range(len(string)):\n",
    "            node_matrix, backtrack_matrix, max_score  = LA.LCSLocal(string[k:],rev_string[:-k]); all_scores.append(max_score)\n",
    "            if max_score > best_score:\n",
    "                best_score = max_score;\n",
    "                score, align1, align2 = LA.BacktrackLocalAlign();\n",
    "                bestLA = LA\n",
    "        plt.plot(np.arange(0,k+1),all_scores); bestLA.ShowResults()\n",
    "    \n",
    "    def ShowResults(self):\n",
    "        print(self.align1); print(self.align2); print('Score:',self.score); \n",
    "        print('Alignment Length:',len(self.align1),'| Mismatch:', self.num_mismatch,'& Indel:',self.num_indel)"
   ]
  },
  {
   "cell_type": "code",
   "execution_count": 18,
   "metadata": {},
   "outputs": [
    {
     "name": "stdin",
     "output_type": "stream",
     "text": [
      "What is the penalty of indel? (Should be negative) -1\n"
     ]
    },
    {
     "name": "stdout",
     "output_type": "stream",
     "text": [
      "Defined Indel Penalty is  -1\n"
     ]
    },
    {
     "name": "stdin",
     "output_type": "stream",
     "text": [
      "Sequence you would like to score for psuedoknots: ACAGAGAGGTACACACCCAGATGACACACCGAGGTAGA\n"
     ]
    }
   ],
   "source": [
    "indel = int(input('What is the penalty of indel? (Should be negative)'))\n",
    "if type(indel) == int:\n",
    "    print('Defined Indel Penalty is ',int(indel))\n",
    "else:\n",
    "    raise Exception('Your must input an integer')\n",
    "try:\n",
    "    string =  Seq(str(input('Sequence you would like to score for psuedoknots:')),generic_dna)\n",
    "    rev_string = string.reverse_complement()\n",
    "except:\n",
    "    print('Something is wrong')"
   ]
  },
  {
   "cell_type": "code",
   "execution_count": 19,
   "metadata": {},
   "outputs": [
    {
     "name": "stdout",
     "output_type": "stream",
     "text": [
      "C-ACC-CAG-ATGACACACCGAGGTAG\n",
      "CTACCTCGGTGTGTCA-TCTG-GGT-G\n",
      "Score: 5\n",
      "Alignment Length: 27 | Mismatch: 5 & Indel: 6\n"
     ]
    },
    {
     "data": {
      "image/png": "[encoded data removed]",
      "text/plain": [
       "<Figure size 432x288 with 1 Axes>"
      ]
     },
     "metadata": {
      "needs_background": "light"
     },
     "output_type": "display_data"
    }
   ],
   "source": [
    "LA = MultiLocalAlignment(Apt,indel);\n",
    "LA.PsuedoAlign(string)"
   ]
  },
  {
   "cell_type": "code",
   "execution_count": null,
   "metadata": {},
   "outputs": [],
   "source": []
  }
 ],
 "metadata": {
  "kernelspec": {
   "display_name": "Python 3",
   "language": "python",
   "name": "python3"
  },
  "language_info": {
   "codemirror_mode": {
    "name": "ipython",
    "version": 3
   },
   "file_extension": ".py",
   "mimetype": "text/x-python",
   "name": "python",
   "nbconvert_exporter": "python",
   "pygments_lexer": "ipython3",
   "version": "3.7.2"
  }
 },
 "nbformat": 4,
 "nbformat_minor": 2
}
